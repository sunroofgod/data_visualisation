{
 "cells": [
  {
   "attachments": {},
   "cell_type": "markdown",
   "metadata": {},
   "source": [
    "The aim of this project is try try out various Data Visualisation Techniques. This also serves as a Refresher for myself regarding Pandas, Matplotlib and NumPy."
   ]
  },
  {
   "attachments": {},
   "cell_type": "markdown",
   "metadata": {},
   "source": [
    "### 1. Importing"
   ]
  },
  {
   "cell_type": "code",
   "execution_count": 1148,
   "metadata": {},
   "outputs": [],
   "source": [
    "import numpy as np\n",
    "import pandas as pd\n",
    "import matplotlib.pyplot as plt\n",
    "\n",
    "births_df = pd.read_csv('assets/US_births_1994-2003_CDC_NCHS.csv')"
   ]
  },
  {
   "attachments": {},
   "cell_type": "markdown",
   "metadata": {},
   "source": [
    "***"
   ]
  },
  {
   "attachments": {},
   "cell_type": "markdown",
   "metadata": {},
   "source": [
    "### 2. Exploring Dataset"
   ]
  },
  {
   "attachments": {},
   "cell_type": "markdown",
   "metadata": {},
   "source": [
    "In this section, the goal is just to have a brief look through the dataset to get a gist of what it contains."
   ]
  },
  {
   "cell_type": "code",
   "execution_count": 1149,
   "metadata": {},
   "outputs": [
    {
     "name": "stdout",
     "output_type": "stream",
     "text": [
      "Index(['year', 'month', 'date_of_month', 'day_of_week', 'births'], dtype='object')\n"
     ]
    }
   ],
   "source": [
    "# Finding Header\n",
    "print(births_df.columns)"
   ]
  },
  {
   "cell_type": "code",
   "execution_count": 1150,
   "metadata": {},
   "outputs": [
    {
     "name": "stdout",
     "output_type": "stream",
     "text": [
      "There are 3652 rows and 5 columns\n"
     ]
    }
   ],
   "source": [
    "# Finding out the dimensions of the Dataset\n",
    "print(f\"There are {births_df.shape[0]} rows and {births_df.shape[1]} columns\")"
   ]
  },
  {
   "cell_type": "code",
   "execution_count": 1151,
   "metadata": {},
   "outputs": [
    {
     "name": "stdout",
     "output_type": "stream",
     "text": [
      "   year  month  date_of_month  day_of_week  births\n",
      "0  1994      1              1            6    8096\n",
      "1  1994      1              2            7    7772\n",
      "2  1994      1              3            1   10142\n",
      "3  1994      1              4            2   11248\n",
      "\n",
      "\n",
      "      year  month  date_of_month  day_of_week  births\n",
      "3648  2003     12             28            7    7645\n",
      "3649  2003     12             29            1   12823\n",
      "3650  2003     12             30            2   14438\n",
      "3651  2003     12             31            3   12374\n",
      "\n",
      "\n"
     ]
    }
   ],
   "source": [
    "# Taking a look at the first 4 rows\n",
    "print(births_df.head(4))\n",
    "print(f'\\n')\n",
    "\n",
    "# Taking a look at the last 4 rows\n",
    "print(births_df.tail(4))\n",
    "print(f'\\n')"
   ]
  },
  {
   "attachments": {},
   "cell_type": "markdown",
   "metadata": {},
   "source": [
    "By taking a look at the 'head' and the 'tail' of the dataset, we are able to know the range of the values. In this case, we know that the dataset ranges from the date 01/01/1994 to 31/12/2003. "
   ]
  },
  {
   "attachments": {},
   "cell_type": "markdown",
   "metadata": {},
   "source": [
    "Alternatively, we can simply print it to get the rough look of the head and tail as well using `print(births_df)`. This will also give us the dimensions."
   ]
  },
  {
   "cell_type": "code",
   "execution_count": 1152,
   "metadata": {},
   "outputs": [
    {
     "name": "stdout",
     "output_type": "stream",
     "text": [
      "      year  month  date_of_month  day_of_week  births\n",
      "0     1994      1              1            6    8096\n",
      "1     1994      1              2            7    7772\n",
      "2     1994      1              3            1   10142\n",
      "3     1994      1              4            2   11248\n",
      "4     1994      1              5            3   11053\n",
      "...    ...    ...            ...          ...     ...\n",
      "3647  2003     12             27            6    8646\n",
      "3648  2003     12             28            7    7645\n",
      "3649  2003     12             29            1   12823\n",
      "3650  2003     12             30            2   14438\n",
      "3651  2003     12             31            3   12374\n",
      "\n",
      "[3652 rows x 5 columns]\n"
     ]
    }
   ],
   "source": [
    "print(births_df)"
   ]
  },
  {
   "attachments": {},
   "cell_type": "markdown",
   "metadata": {},
   "source": [
    "Now, we take a look at the given stats in the dataset using `df.describe()`."
   ]
  },
  {
   "cell_type": "code",
   "execution_count": 1153,
   "metadata": {},
   "outputs": [
    {
     "name": "stdout",
     "output_type": "stream",
     "text": [
      "              year        month  date_of_month  day_of_week        births\n",
      "count  3652.000000  3652.000000    3652.000000  3652.000000   3652.000000\n",
      "mean   1998.499726     6.523549      15.727820     3.999726  10876.817360\n",
      "std       2.872293     3.449005       8.800529     2.000753   1858.566631\n",
      "min    1994.000000     1.000000       1.000000     1.000000   6443.000000\n",
      "25%    1996.000000     4.000000       8.000000     2.000000   8844.500000\n",
      "50%    1998.500000     7.000000      16.000000     4.000000  11615.000000\n",
      "75%    2001.000000    10.000000      23.000000     6.000000  12274.250000\n",
      "max    2003.000000    12.000000      31.000000     7.000000  14540.000000\n"
     ]
    }
   ],
   "source": [
    "# Finding out the overall stats\n",
    "print(births_df.describe())"
   ]
  },
  {
   "cell_type": "code",
   "execution_count": 1154,
   "metadata": {},
   "outputs": [
    {
     "name": "stdout",
     "output_type": "stream",
     "text": [
      "      year  month  date_of_month  day_of_week  births\n",
      "2915  2001     12             25            2    6443\n",
      "2550  2000     12             25            1    6566\n",
      "3645  2003     12             25            4    6628\n",
      "3280  2002     12             25            3    6629\n",
      "2184  1999     12             25            6    6674\n",
      "...    ...    ...            ...          ...     ...\n",
      "3552  2003      9             23            2   14036\n",
      "3532  2003      9              3            3   14119\n",
      "3545  2003      9             16            2   14145\n",
      "3650  2003     12             30            2   14438\n",
      "2077  1999      9              9            4   14540\n",
      "\n",
      "[3652 rows x 5 columns]\n"
     ]
    }
   ],
   "source": [
    "# Finding year & day with highest & lowest number of births\n",
    "print(births_df.sort_values('births'))"
   ]
  },
  {
   "attachments": {},
   "cell_type": "markdown",
   "metadata": {},
   "source": [
    "From this, we can determine that: \n",
    "<br> On 25 Dec 2001, Tuesday, it had the lowest number of births \n",
    "<br> On 9 Sept 1999, Thursday, it has the highest number of births"
   ]
  },
  {
   "attachments": {},
   "cell_type": "markdown",
   "metadata": {},
   "source": [
    "***"
   ]
  },
  {
   "attachments": {},
   "cell_type": "markdown",
   "metadata": {},
   "source": [
    "### 3. Cleaning Dataset"
   ]
  },
  {
   "attachments": {},
   "cell_type": "markdown",
   "metadata": {},
   "source": [
    "Although this Dataset was obtained from a reliable source, we still do the usual of looking through and ensuring that the Dataset is clean.\n",
    "<br/>\n",
    "Things that we're looking out for:"
   ]
  },
  {
   "attachments": {},
   "cell_type": "markdown",
   "metadata": {},
   "source": [
    "1. There is no row with NaN or missing data.\n",
    "2. There is indeed data from the years {1994} to {2003}.\n",
    "3. It accounts for everyday of the week, from Monday to Sunday."
   ]
  },
  {
   "attachments": {},
   "cell_type": "markdown",
   "metadata": {},
   "source": [
    "Firstly, we resolve point 1."
   ]
  },
  {
   "cell_type": "code",
   "execution_count": 1155,
   "metadata": {},
   "outputs": [
    {
     "name": "stdout",
     "output_type": "stream",
     "text": [
      "now, all the rows with any field empty will have been removed\n"
     ]
    }
   ],
   "source": [
    "births_df = births_df.dropna()\n",
    "print(f\"now, all the rows with any field empty will have been removed\")"
   ]
  },
  {
   "attachments": {},
   "cell_type": "markdown",
   "metadata": {},
   "source": [
    "Now, we're just doing a simple check through for points 2. and 3."
   ]
  },
  {
   "cell_type": "code",
   "execution_count": 1156,
   "metadata": {},
   "outputs": [
    {
     "name": "stdout",
     "output_type": "stream",
     "text": [
      "[1994, 1995, 1996, 1997, 1998, 1999, 2000, 2001, 2002, 2003]\n"
     ]
    }
   ],
   "source": [
    "years = births_df.year.unique().tolist()\n",
    "print(years)"
   ]
  },
  {
   "cell_type": "code",
   "execution_count": 1157,
   "metadata": {},
   "outputs": [
    {
     "name": "stdout",
     "output_type": "stream",
     "text": [
      "[6 7 1 2 3 4 5]\n"
     ]
    }
   ],
   "source": [
    "print(births_df.day_of_week.unique())"
   ]
  },
  {
   "cell_type": "code",
   "execution_count": 1158,
   "metadata": {},
   "outputs": [
    {
     "name": "stdout",
     "output_type": "stream",
     "text": [
      "[1, 2, 3, 4, 5, 6, 7, 8, 9, 10, 11, 12, 13, 14, 15, 16, 17, 18, 19, 20, 21, 22, 23, 24, 25, 26, 27, 28, 29, 30, 31]\n"
     ]
    }
   ],
   "source": [
    "days = births_df.date_of_month.unique().tolist()\n",
    "print(days)"
   ]
  },
  {
   "attachments": {},
   "cell_type": "markdown",
   "metadata": {},
   "source": [
    "***"
   ]
  },
  {
   "attachments": {},
   "cell_type": "markdown",
   "metadata": {},
   "source": [
    "### 4. Sorting & Plotting Dataset"
   ]
  },
  {
   "attachments": {},
   "cell_type": "markdown",
   "metadata": {},
   "source": [
    "For the purpose of this dataset, there are few interesting things I think would be useful to be seen visualised. \n",
    "</br> \n",
    "in the following format of {y} against {x}:"
   ]
  },
  {
   "attachments": {},
   "cell_type": "markdown",
   "metadata": {},
   "source": [
    "1. Total number of births against year\n",
    "2. Average number of births against year\n",
    "3. Average number of births against day of the week\n",
    "4. Average number of births against month of the year"
   ]
  },
  {
   "attachments": {},
   "cell_type": "markdown",
   "metadata": {},
   "source": [
    "Therefore, we need to split the original dataset into seperate datasets. For a majority of these graphs, a Bar Graph would be the most useful."
   ]
  },
  {
   "cell_type": "code",
   "execution_count": 1159,
   "metadata": {},
   "outputs": [],
   "source": [
    "def plot_bargraph(dataset: pd.DataFrame, x_axis: str, y_axis: str, y_lim: list[int], labels: list[str], width: float=0.5) -> None:\n",
    "    plt.bar(dataset[x_axis], dataset[y_axis], width, color='salmon')\n",
    "    plt.ylim(y_lim)\n",
    "    plt.xlabel(labels[0])\n",
    "    plt.ylabel(labels[1])\n",
    "    plt.title(labels[2])\n",
    "    plt.show()"
   ]
  },
  {
   "attachments": {},
   "cell_type": "markdown",
   "metadata": {},
   "source": [
    "#### 4.1. Graph of Total Number of Births against Year"
   ]
  },
  {
   "cell_type": "code",
   "execution_count": 1160,
   "metadata": {},
   "outputs": [
    {
     "name": "stdout",
     "output_type": "stream",
     "text": [
      "   year   births\n",
      "0  1994  3952767\n",
      "1  1995  3899589\n",
      "2  1996  3891494\n",
      "3  1997  3880894\n",
      "4  1998  3941553\n",
      "5  1999  3959417\n",
      "6  2000  4058814\n",
      "7  2001  4025933\n",
      "8  2002  4021726\n",
      "9  2003  4089950\n"
     ]
    }
   ],
   "source": [
    "# First, we create a new dataframe that contains the total number of births for the corresponding years \n",
    "births_against_year_df = births_df.groupby(['year'])['births'].sum().reset_index()\n",
    "\n",
    "print(births_against_year_df)"
   ]
  },
  {
   "cell_type": "code",
   "execution_count": 1161,
   "metadata": {},
   "outputs": [
    {
     "data": {
      "image/png": "[encoded data removed]",
      "text/plain": [
       "<Figure size 1440x360 with 1 Axes>"
      ]
     },
     "metadata": {
      "needs_background": "light"
     },
     "output_type": "display_data"
    }
   ],
   "source": [
    "fig = plt.figure(figsize = (20, 5))\n",
    "plot_bargraph(births_against_year_df, \n",
    "        'year', \n",
    "        'births', \n",
    "        [3850000, 4100000], \n",
    "        ['Year','Total number of Births (millions)', 'Total number of Births every Year between 1994 to 2003 (inclusive)']\n",
    "        )"
   ]
  },
  {
   "attachments": {},
   "cell_type": "markdown",
   "metadata": {},
   "source": [
    "Visually, we are able to see that 2003 is the year with the highest amount of Births and 1997 is the year with the least."
   ]
  },
  {
   "attachments": {},
   "cell_type": "markdown",
   "metadata": {},
   "source": [
    "#### 4.2 Graph of Average number of Births against Year"
   ]
  },
  {
   "cell_type": "code",
   "execution_count": 1162,
   "metadata": {},
   "outputs": [
    {
     "name": "stdout",
     "output_type": "stream",
     "text": [
      "   year        births\n",
      "2  1996  10632.497268\n",
      "3  1997  10632.586301\n",
      "1  1995  10683.805479\n",
      "4  1998  10798.775342\n",
      "0  1994  10829.498630\n",
      "5  1999  10847.717808\n",
      "8  2002  11018.427397\n",
      "7  2001  11029.953425\n",
      "6  2000  11089.655738\n",
      "9  2003  11205.342466\n"
     ]
    }
   ],
   "source": [
    "# We create a new dataframe that contains the average number of births for the corresponding years \n",
    "avg_births_against_year_df = births_df.groupby(['year'])['births'].mean().reset_index().sort_values('births')\n",
    "\n",
    "print(avg_births_against_year_df)"
   ]
  },
  {
   "cell_type": "code",
   "execution_count": 1163,
   "metadata": {},
   "outputs": [
    {
     "data": {
      "image/png": "[encoded data removed]",
      "text/plain": [
       "<Figure size 1440x360 with 1 Axes>"
      ]
     },
     "metadata": {
      "needs_background": "light"
     },
     "output_type": "display_data"
    }
   ],
   "source": [
    "graph2 = births_df.groupby(['year'])['births'].mean().reset_index()\n",
    "fig = plt.figure(figsize = (20, 5))\n",
    "plot_bargraph(avg_births_against_year_df, \n",
    "        'year', \n",
    "        'births', \n",
    "        [10600, 11240], \n",
    "        ['Year','Average number of Births (per day)', 'Average number of Births (per day) for every Year between 1994 to 2003 (inclusive)']\n",
    "        )"
   ]
  },
  {
   "attachments": {},
   "cell_type": "markdown",
   "metadata": {},
   "source": [
    "This time around, it is harder to see via just observation whether 1996/1997 is the year with the least. However, we know that 2003 is still the year with the most.\n",
    "</br> In this case, thankfully, we are able to see the exact numbers so we know that 1996 is the year with the least average number of Births."
   ]
  },
  {
   "attachments": {},
   "cell_type": "markdown",
   "metadata": {},
   "source": [
    "This fact is interesting because 1997 was the year with the least **Total Number** of Births but 1996 was the year with the least **Average Number** of Births."
   ]
  },
  {
   "attachments": {},
   "cell_type": "markdown",
   "metadata": {},
   "source": [
    "#### 4.3 Graph of Average Number of Births against the Day of the Week"
   ]
  },
  {
   "cell_type": "code",
   "execution_count": 1164,
   "metadata": {},
   "outputs": [
    {
     "name": "stdout",
     "output_type": "stream",
     "text": [
      "   day_of_week        births        day\n",
      "0            1  11090.356322     Monday\n",
      "1            2  12349.034483    Tuesday\n",
      "2            3  12112.749042  Wednesday\n",
      "3            4  12069.921305   Thursday\n",
      "4            5  11964.792706     Friday\n",
      "5            6   8739.676245   Saturday\n",
      "6            7   7815.561303     Sunday\n"
     ]
    }
   ],
   "source": [
    "# We create a new dataframe that contains the average number of births for the corresponding day of the week\n",
    "avg_births_against_dotw_df = births_df.groupby(['day_of_week'])['births'].mean().reset_index()\n",
    "\n",
    "# We add a new column denoting the actual Names for the day of the week as opposed to integer values so that it is clearer when visualised.\n",
    "avg_births_against_dotw_df['day'] = ['Monday', 'Tuesday', 'Wednesday', 'Thursday', 'Friday', 'Saturday', 'Sunday']\n",
    "\n",
    "print(avg_births_against_dotw_df)"
   ]
  },
  {
   "cell_type": "code",
   "execution_count": 1165,
   "metadata": {},
   "outputs": [
    {
     "data": {
      "image/png": "[encoded data removed]",
      "text/plain": [
       "<Figure size 1440x360 with 1 Axes>"
      ]
     },
     "metadata": {
      "needs_background": "light"
     },
     "output_type": "display_data"
    }
   ],
   "source": [
    "fig = plt.figure(figsize = (20, 5))\n",
    "plot_bargraph(avg_births_against_dotw_df, \n",
    "        'day', \n",
    "        'births', \n",
    "        [7000,12500], \n",
    "        ['Day of the Week','Average Number of Births', 'Average Number of Births on a particular Day (Betw 1994-2003)'],\n",
    "        )"
   ]
  },
  {
   "attachments": {},
   "cell_type": "markdown",
   "metadata": {},
   "source": [
    "Now this is a cool observation! The weekends has the least average Number of Births. Is this just a coincidence? Well, to find out more, we will need to test this on more datasets."
   ]
  },
  {
   "attachments": {},
   "cell_type": "markdown",
   "metadata": {},
   "source": [
    "#### 4.4 Graph of Average Number of Births against the Day of the Month"
   ]
  },
  {
   "cell_type": "code",
   "execution_count": 1166,
   "metadata": {},
   "outputs": [
    {
     "name": "stdout",
     "output_type": "stream",
     "text": [
      "    date_of_month        births\n",
      "24             25  10600.966667\n",
      "0               1  10637.975000\n",
      "12             13  10647.366667\n",
      "30             31  10667.085714\n",
      "25             26  10706.633333\n",
      "23             24  10734.025000\n",
      "3               4  10734.616667\n",
      "1               2  10739.491667\n",
      "22             23  10777.416667\n",
      "26             27  10786.625000\n",
      "4               5  10832.941667\n",
      "8               9  10860.766667\n",
      "5               6  10870.616667\n",
      "2               3  10870.825000\n",
      "27             28  10897.375000\n",
      "6               7  10920.491667\n",
      "28             29  10921.080357\n",
      "29             30  10928.136364\n",
      "7               8  10935.808333\n",
      "10             11  10953.008333\n",
      "15             16  10959.933333\n",
      "21             22  10978.175000\n",
      "11             12  10986.975000\n",
      "18             19  10989.391667\n",
      "14             15  10993.091667\n",
      "13             14  11001.275000\n",
      "9              10  11006.366667\n",
      "20             21  11024.141667\n",
      "19             20  11040.175000\n",
      "16             17  11041.275000\n",
      "17             18  11057.125000\n"
     ]
    }
   ],
   "source": [
    "# We create a new dataframe that contains the average number of births for the corresponding day of the week\n",
    "avg_births_against_dotm_df = births_df.groupby(['date_of_month'])['births'].mean().reset_index().sort_values('births')\n",
    "\n",
    "print(avg_births_against_dotm_df)"
   ]
  },
  {
   "cell_type": "code",
   "execution_count": 1167,
   "metadata": {},
   "outputs": [
    {
     "data": {
      "image/png": "[encoded data removed]",
      "text/plain": [
       "<Figure size 1440x360 with 1 Axes>"
      ]
     },
     "metadata": {
      "needs_background": "light"
     },
     "output_type": "display_data"
    }
   ],
   "source": [
    "fig = plt.figure(figsize = (20, 5))\n",
    "plot_bargraph(avg_births_against_dotm_df, \n",
    "        'date_of_month', \n",
    "        'births', \n",
    "        [10500,11100], \n",
    "        ['Day of the Month','Average Number of Births', 'Average Number of Births on a particular Day (Betw 1994-2003)'],\n",
    "        )"
   ]
  },
  {
   "attachments": {},
   "cell_type": "markdown",
   "metadata": {},
   "source": [
    "From obversation, we know that 25th has the least and 18th has the most. An interesting trend thing to note is that it is mostly increasing from the 1st to 23rd of a month. Both the ends of the months have a low number of Births as well."
   ]
  },
  {
   "attachments": {},
   "cell_type": "markdown",
   "metadata": {},
   "source": [
    "***"
   ]
  },
  {
   "attachments": {},
   "cell_type": "markdown",
   "metadata": {},
   "source": [
    "### 5. More Vigorous Sorting(Filtering) & Plotting of Dataset"
   ]
  },
  {
   "attachments": {},
   "cell_type": "markdown",
   "metadata": {},
   "source": [
    "Now that we've looked through the normal Datasets and answered some basic questions, let's do something more interesting. Let us filter through the data for specific scenarios."
   ]
  },
  {
   "attachments": {},
   "cell_type": "markdown",
   "metadata": {},
   "source": [
    "1. Number of occurences of >= 10000 births on a Monday\n",
    "2. Number of occurences of < 10000 births on a Monday\n",
    "3. Number of occurences of >= 10000 births for the First Day of a Month\n",
    "4. Number of occurences of < 10000 births for the First Day of a Month"
   ]
  },
  {
   "cell_type": "code",
   "execution_count": 1168,
   "metadata": {},
   "outputs": [],
   "source": [
    "def plot_stemgraphs_noniterative(x_axis: list[str], y_axis: list[int], labels: list[str], plot_num: int) -> None:\n",
    "    plt.bar(x_axis, y_axis, width = 1.0, color = 'salmon')\n",
    "    plt.subplot(1, 2, plot_num+1)\n",
    "    plt.xlabel(labels[0])\n",
    "    plt.ylabel(labels[1])\n",
    "    plt.title(labels[2])"
   ]
  },
  {
   "cell_type": "code",
   "execution_count": 1169,
   "metadata": {},
   "outputs": [
    {
     "data": {
      "image/png": "[encoded data removed]",
      "text/plain": [
       "<Figure size 1440x576 with 2 Axes>"
      ]
     },
     "metadata": {
      "needs_background": "light"
     },
     "output_type": "display_data"
    }
   ],
   "source": [
    "# Counting value for 1. and 2.\n",
    "num_births_mt11000_dotw = len(births_df[(births_df.births >= 10900) & (births_df.day_of_week == 1)].index)\n",
    "num_births_lt11000_dotw = len(births_df[(births_df.births < 10900) & (births_df.day_of_week == 1)].index)\n",
    "\n",
    "# Counting value for 3. and 4.\n",
    "num_births_mt11000_day1 = len(births_df[(births_df.births >= 10900) & (births_df.date_of_month == 1)].index)\n",
    "num_births_lt11000_day1 = len(births_df[(births_df.births < 10900) & (births_df.date_of_month == 1)].index)\n",
    "\n",
    "# Creating params for Graph\n",
    "x_axis = [['< 10900', '>= 10900'], ['< 10900', '>= 10900']]\n",
    "y_axis = [[num_births_mt11000_dotw, num_births_lt11000_dotw], [num_births_mt11000_day1, num_births_lt11000_day1]]\n",
    "labels = [\n",
    "        ['Number of Births', 'Occurences for Births of a given amount','Graph of Number of Occurences of Days with Births >= or < Average (10900) on a Monday'],\n",
    "        ['Number of Births', 'Occurences for Births of a given amount', 'Graph of Number of Occurences of Days with Births >= or < Average (10900) for the First Day of a Month']\n",
    "        ]\n",
    "\n",
    "# Creation of the Dataset for a clearer understanding of the numbers if need be\n",
    "final_df = pd.DataFrame()\n",
    "final_df['labels'] = ['dotw', 'dotw', 'dotm', 'dotm']\n",
    "final_df['>= 10900'] = [num_births_mt11000_dotw, pd.NA, num_births_lt11000_dotw, pd.NA]\n",
    "final_df['< 10900'] = [pd.NA, num_births_mt11000_day1, pd.NA, num_births_lt11000_day1]\n",
    "final_df = final_df.set_index('labels')\n",
    "\n",
    "# Setting number of rows and cols for subplot\n",
    "plt.subplots(1, 2, figsize = (20,8))\n",
    "\n",
    "# Ploting iteratively\n",
    "for plot_num in range(0, 2):\n",
    "    plot_stemgraphs_noniterative(x_axis[plot_num], y_axis[plot_num], labels[plot_num], plot_num)\n",
    "\n",
    "plt.tight_layout()\n",
    "plt.show()"
   ]
  },
  {
   "attachments": {},
   "cell_type": "markdown",
   "metadata": {},
   "source": [
    "From this, we observe something very significant. On the first day of every Month, there is a high chance that there will be less than the average number of births of 10876.817360 ~ 10900. "
   ]
  },
  {
   "attachments": {},
   "cell_type": "markdown",
   "metadata": {},
   "source": [
    "***"
   ]
  },
  {
   "attachments": {},
   "cell_type": "markdown",
   "metadata": {},
   "source": [
    "### 6. Spotting Trends"
   ]
  },
  {
   "attachments": {},
   "cell_type": "markdown",
   "metadata": {},
   "source": [
    "In this section, we will replot the past few graphs, but of a different type to better observe trends."
   ]
  },
  {
   "attachments": {},
   "cell_type": "markdown",
   "metadata": {},
   "source": [
    "#### 6.1 Does the Year affect the Total Number of Births?"
   ]
  },
  {
   "cell_type": "code",
   "execution_count": 1170,
   "metadata": {},
   "outputs": [
    {
     "data": {
      "image/png": "[encoded data removed]",
      "text/plain": [
       "<Figure size 720x360 with 1 Axes>"
      ]
     },
     "metadata": {
      "needs_background": "light"
     },
     "output_type": "display_data"
    }
   ],
   "source": [
    "fig = plt.figure(figsize = (10, 5))\n",
    "x = births_against_year_df['year'] \n",
    "y = births_against_year_df['births']\n",
    "\n",
    "# Formulating the bestfit line\n",
    "a, b = np.polyfit(x, y, 1)\n",
    "\n",
    "# Plot scatterplot of the dataset\n",
    "plt.scatter(x, y, color='purple')\n",
    "\n",
    "# Drawing bestfit line onto graph\n",
    "plt.plot(x, a*x+b, linestyle='--', linewidth=2)\n",
    "plt.show()"
   ]
  },
  {
   "attachments": {},
   "cell_type": "markdown",
   "metadata": {},
   "source": [
    "This linear best fit line doesn't really work. This means that the relationship between the Year and the Total number of Births isn't Linear. Therefore, it makes sense to perform Polynomial Regression Instead."
   ]
  },
  {
   "cell_type": "code",
   "execution_count": 1171,
   "metadata": {},
   "outputs": [
    {
     "data": {
      "image/png": "[encoded data removed]",
      "text/plain": [
       "<Figure size 720x360 with 1 Axes>"
      ]
     },
     "metadata": {
      "needs_background": "light"
     },
     "output_type": "display_data"
    }
   ],
   "source": [
    "fig = plt.figure(figsize = (10, 5))\n",
    "\n",
    "# Formulating the polynomial fit line of degree {3}\n",
    "model = np.poly1d(np.polyfit(x, y, 3))\n",
    "polyline = np.linspace(1994, 2003)\n",
    "\n",
    "# Plot scatterplot of the dataset\n",
    "plt.scatter(x, y, color='purple')\n",
    "\n",
    "# Drawing polynomial fit onto graph\n",
    "plt.plot(polyline, model(polyline), linestyle='--', linewidth=2)\n",
    "plt.show()"
   ]
  },
  {
   "attachments": {},
   "cell_type": "markdown",
   "metadata": {},
   "source": [
    "#### 6.2 Does the Day of the Month determine the Number of Births for that particular day?"
   ]
  },
  {
   "cell_type": "code",
   "execution_count": 1172,
   "metadata": {},
   "outputs": [
    {
     "data": {
      "image/png": "[encoded data removed]",
      "text/plain": [
       "<Figure size 720x360 with 1 Axes>"
      ]
     },
     "metadata": {
      "needs_background": "light"
     },
     "output_type": "display_data"
    }
   ],
   "source": [
    "fig = plt.figure(figsize = (10, 5))\n",
    "x = avg_births_against_dotm_df['date_of_month'] \n",
    "y = avg_births_against_dotm_df['births']\n",
    "\n",
    "# Formulating the polynomial fit line of degree {7}\n",
    "model = np.poly1d(np.polyfit(x, y, 7))\n",
    "polyline = np.linspace(1, 31)\n",
    "\n",
    "# Plot scatterplot of the dataset\n",
    "plt.scatter(x, y, color='purple')\n",
    "\n",
    "# Drawing polynomial fit onto graph\n",
    "plt.plot(polyline, model(polyline), linestyle='--', linewidth=2)\n",
    "plt.show()"
   ]
  },
  {
   "attachments": {},
   "cell_type": "markdown",
   "metadata": {},
   "source": [
    "I decided to simply plot a polynomial fit line of degree 7 because increasing it would make it potentially overfitting. However, I still have much more to learn. Maybe in future, once I'm more certain I will be able to plot this more accurately."
   ]
  },
  {
   "attachments": {},
   "cell_type": "markdown",
   "metadata": {},
   "source": [
    "***"
   ]
  }
 ],
 "metadata": {
  "kernelspec": {
   "display_name": "base",
   "language": "python",
   "name": "python3"
  },
  "language_info": {
   "codemirror_mode": {
    "name": "ipython",
    "version": 3
   },
   "file_extension": ".py",
   "mimetype": "text/x-python",
   "name": "python",
   "nbconvert_exporter": "python",
   "pygments_lexer": "ipython3",
   "version": "3.9.7"
  },
  "orig_nbformat": 4,
  "vscode": {
   "interpreter": {
    "hash": "40d3a090f54c6569ab1632332b64b2c03c39dcf918b08424e98f38b5ae0af88f"
   }
  }
 },
 "nbformat": 4,
 "nbformat_minor": 2
}

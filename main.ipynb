{
 "cells": [
  {
   "attachments": {},
   "cell_type": "markdown",
   "metadata": {},
   "source": [
    "The aim of this project is try try out various Data Visualisation Techniques. This also serves as a Refresher for myself regarding Pandas, Matplotlib and NumPy."
   ]
  },
  {
   "attachments": {},
   "cell_type": "markdown",
   "metadata": {},
   "source": [
    "### 1. Importing"
   ]
  },
  {
   "cell_type": "code",
   "execution_count": 508,
   "metadata": {},
   "outputs": [],
   "source": [
    "import numpy as np\n",
    "import pandas as pd\n",
    "import matplotlib.pyplot as plt\n",
    "\n",
    "births_p1_df = pd.read_csv('assets/US_births_1994-2003_CDC_NCHS.csv')\n",
    "births_p2_df = pd.read_csv('assets/US_births_2000-2014_SSA.csv')"
   ]
  },
  {
   "attachments": {},
   "cell_type": "markdown",
   "metadata": {},
   "source": [
    "Since two parts of our dataset is obtained from different sources, we have to see if the overlaps are identical"
   ]
  },
  {
   "cell_type": "code",
   "execution_count": 509,
   "metadata": {},
   "outputs": [
    {
     "name": "stdout",
     "output_type": "stream",
     "text": [
      "      year  month  date_of_month  day_of_week  births\n",
      "2191  2000      1              1            6    8843\n",
      "2192  2000      1              2            7    7816\n",
      "2193  2000      1              3            1   11123\n",
      "2194  2000      1              4            2   12703\n",
      "2195  2000      1              5            3   12240\n",
      "\n",
      "\n",
      "   year  month  date_of_month  day_of_week  births\n",
      "0  2000      1              1            6    9083\n",
      "1  2000      1              2            7    8006\n",
      "2  2000      1              3            1   11363\n",
      "3  2000      1              4            2   13032\n",
      "4  2000      1              5            3   12558\n"
     ]
    }
   ],
   "source": [
    "print(births_p1_df[births_p1_df.year==2000].head())\n",
    "print(f'\\n')\n",
    "print(births_p2_df[births_p2_df.year==2000].head())"
   ]
  },
  {
   "attachments": {},
   "cell_type": "markdown",
   "metadata": {},
   "source": [
    "From observation, we can see that they aren't identical. For the sake of this data testing, I will be simply removing the entries in `births_p1_df` that contains data from the year 2000-2003."
   ]
  },
  {
   "cell_type": "code",
   "execution_count": 510,
   "metadata": {},
   "outputs": [],
   "source": [
    "births_p1_df = births_p1_df[births_p1_df.year<=1999]\n",
    "births_df = pd.concat([births_p1_df, births_p2_df])"
   ]
  },
  {
   "attachments": {},
   "cell_type": "markdown",
   "metadata": {},
   "source": [
    "***"
   ]
  },
  {
   "attachments": {},
   "cell_type": "markdown",
   "metadata": {},
   "source": [
    "### 2. Exploring Dataset"
   ]
  },
  {
   "attachments": {},
   "cell_type": "markdown",
   "metadata": {},
   "source": [
    "In this section, the goal is just to have a brief look through the dataset to get a gist of what it contains."
   ]
  },
  {
   "cell_type": "code",
   "execution_count": 511,
   "metadata": {},
   "outputs": [
    {
     "name": "stdout",
     "output_type": "stream",
     "text": [
      "Index(['year', 'month', 'date_of_month', 'day_of_week', 'births'], dtype='object')\n"
     ]
    }
   ],
   "source": [
    "# Finding Header\n",
    "print(births_df.columns)"
   ]
  },
  {
   "cell_type": "code",
   "execution_count": 512,
   "metadata": {},
   "outputs": [
    {
     "name": "stdout",
     "output_type": "stream",
     "text": [
      "There are 7670 rows and 5 columns\n"
     ]
    }
   ],
   "source": [
    "# Finding out the dimensions of the Dataset\n",
    "print(f\"There are {births_df.shape[0]} rows and {births_df.shape[1]} columns\")"
   ]
  },
  {
   "cell_type": "code",
   "execution_count": 513,
   "metadata": {},
   "outputs": [
    {
     "name": "stdout",
     "output_type": "stream",
     "text": [
      "   year  month  date_of_month  day_of_week  births\n",
      "0  1994      1              1            6    8096\n",
      "1  1994      1              2            7    7772\n",
      "2  1994      1              3            1   10142\n",
      "3  1994      1              4            2   11248\n",
      "\n",
      "\n",
      "      year  month  date_of_month  day_of_week  births\n",
      "5475  2014     12             28            7    7724\n",
      "5476  2014     12             29            1   12811\n",
      "5477  2014     12             30            2   13634\n",
      "5478  2014     12             31            3   11990\n",
      "\n",
      "\n"
     ]
    }
   ],
   "source": [
    "# Taking a look at the first 4 rows\n",
    "print(births_df.head(4))\n",
    "print(f'\\n')\n",
    "\n",
    "# Taking a look at the last 4 rows\n",
    "print(births_df.tail(4))\n",
    "print(f'\\n')"
   ]
  },
  {
   "attachments": {},
   "cell_type": "markdown",
   "metadata": {},
   "source": [
    "By taking a look at the 'head' and the 'tail' of the dataset, we are able to know the range of the values. In this case, we know that the dataset ranges from the date 01/01/1994 to 31/12/2014. "
   ]
  },
  {
   "attachments": {},
   "cell_type": "markdown",
   "metadata": {},
   "source": [
    "Alternatively, we can simply print it to get the rough look of the head and tail as well using `print(births_df)`. This will also give us the dimensions."
   ]
  },
  {
   "cell_type": "code",
   "execution_count": 514,
   "metadata": {},
   "outputs": [
    {
     "name": "stdout",
     "output_type": "stream",
     "text": [
      "      year  month  date_of_month  day_of_week  births\n",
      "0     1994      1              1            6    8096\n",
      "1     1994      1              2            7    7772\n",
      "2     1994      1              3            1   10142\n",
      "3     1994      1              4            2   11248\n",
      "4     1994      1              5            3   11053\n",
      "...    ...    ...            ...          ...     ...\n",
      "5474  2014     12             27            6    8656\n",
      "5475  2014     12             28            7    7724\n",
      "5476  2014     12             29            1   12811\n",
      "5477  2014     12             30            2   13634\n",
      "5478  2014     12             31            3   11990\n",
      "\n",
      "[7670 rows x 5 columns]\n"
     ]
    }
   ],
   "source": [
    "print(births_df)"
   ]
  },
  {
   "attachments": {},
   "cell_type": "markdown",
   "metadata": {},
   "source": [
    "Now, we take a look at the given stats in the dataset using `df.describe()`."
   ]
  },
  {
   "cell_type": "code",
   "execution_count": 515,
   "metadata": {},
   "outputs": [
    {
     "name": "stdout",
     "output_type": "stream",
     "text": [
      "              year        month  date_of_month  day_of_week        births\n",
      "count  7670.000000  7670.000000    7670.000000  7670.000000   7670.000000\n",
      "mean   2004.000000     6.523077      15.729205     3.999870  11175.063625\n",
      "std       6.055444     3.448888       8.800483     2.000359   2183.379461\n",
      "min    1994.000000     1.000000       1.000000     1.000000   5728.000000\n",
      "25%    1999.000000     4.000000       8.000000     2.000000   8786.250000\n",
      "50%    2004.000000     7.000000      16.000000     4.000000  11981.000000\n",
      "75%    2009.000000    10.000000      23.000000     6.000000  12816.000000\n",
      "max    2014.000000    12.000000      31.000000     7.000000  16081.000000\n"
     ]
    }
   ],
   "source": [
    "# Finding out the overall stats\n",
    "print(births_df.describe())"
   ]
  },
  {
   "cell_type": "code",
   "execution_count": 516,
   "metadata": {},
   "outputs": [
    {
     "name": "stdout",
     "output_type": "stream",
     "text": [
      "      year  month  date_of_month  day_of_week  births\n",
      "4376  2011     12             25            7    5728\n",
      "4011  2010     12             25            6    6159\n",
      "3646  2009     12             25            5    6160\n",
      "2185  2005     12             25            7    6224\n",
      "1820  2004     12             25            6    6259\n",
      "...    ...    ...            ...          ...     ...\n",
      "2441  2006      9              7            4   15454\n",
      "2918  2007     12             28            5   15555\n",
      "2917  2007     12             27            4   15590\n",
      "3286  2008     12             30            2   15645\n",
      "3539  2009      9              9            3   16081\n",
      "\n",
      "[7670 rows x 5 columns]\n"
     ]
    }
   ],
   "source": [
    "# Finding year & day with highest & lowest number of births\n",
    "print(births_df.sort_values('births'))"
   ]
  },
  {
   "attachments": {},
   "cell_type": "markdown",
   "metadata": {},
   "source": [
    "From this, we can determine that: \n",
    "<br> On 25 Dec 2011, Sunday, it had the lowest number of births \n",
    "<br> On 9 Sept 2009, Wednesday, it has the highest number of births"
   ]
  },
  {
   "cell_type": "code",
   "execution_count": 517,
   "metadata": {},
   "outputs": [
    {
     "name": "stdout",
     "output_type": "stream",
     "text": [
      "      year  month  date_of_month  day_of_week  births\n",
      "4376  2011     12             25            7    5728\n",
      "4011  2010     12             25            6    6159\n",
      "3646  2009     12             25            5    6160\n",
      "2185  2005     12             25            7    6224\n",
      "1820  2004     12             25            6    6259\n",
      "4742  2012     12             25            2    6325\n",
      "2550  2006     12             25            1    6409\n",
      "3281  2008     12             25            4    6471\n",
      "4453  2012      3             11            7    6497\n",
      "4019  2011      1              2            7    6540\n"
     ]
    }
   ],
   "source": [
    "# Printing Top 10 days with least Number of Births\n",
    "print(births_df.sort_values('births').head(10))"
   ]
  },
  {
   "attachments": {},
   "cell_type": "markdown",
   "metadata": {},
   "source": [
    "Here's an interesting observation. The Top 8 Days with the Least Number of Births happens on Christmas."
   ]
  },
  {
   "attachments": {},
   "cell_type": "markdown",
   "metadata": {},
   "source": [
    "***"
   ]
  },
  {
   "attachments": {},
   "cell_type": "markdown",
   "metadata": {},
   "source": [
    "### 3. Cleaning Dataset"
   ]
  },
  {
   "attachments": {},
   "cell_type": "markdown",
   "metadata": {},
   "source": [
    "Although this Dataset was obtained from a reliable source, we still do the usual of looking through and ensuring that the Dataset is clean.\n",
    "<br/>\n",
    "Things that we're looking out for:"
   ]
  },
  {
   "attachments": {},
   "cell_type": "markdown",
   "metadata": {},
   "source": [
    "1. There is no row with NaN or missing data.\n",
    "2. There is indeed data from the years {1994} to {2014}.\n",
    "3. It accounts for everyday of the week, from Monday to Sunday."
   ]
  },
  {
   "attachments": {},
   "cell_type": "markdown",
   "metadata": {},
   "source": [
    "Firstly, we resolve point 1."
   ]
  },
  {
   "cell_type": "code",
   "execution_count": 518,
   "metadata": {},
   "outputs": [
    {
     "name": "stdout",
     "output_type": "stream",
     "text": [
      "now, all the rows with any field empty will have been removed\n"
     ]
    }
   ],
   "source": [
    "births_df = births_df.dropna()\n",
    "print(f\"now, all the rows with any field empty will have been removed\")"
   ]
  },
  {
   "attachments": {},
   "cell_type": "markdown",
   "metadata": {},
   "source": [
    "Now, we're just doing a simple check through for points 2. and 3."
   ]
  },
  {
   "cell_type": "code",
   "execution_count": 519,
   "metadata": {},
   "outputs": [
    {
     "name": "stdout",
     "output_type": "stream",
     "text": [
      "[1994, 1995, 1996, 1997, 1998, 1999, 2000, 2001, 2002, 2003, 2004, 2005, 2006, 2007, 2008, 2009, 2010, 2011, 2012, 2013, 2014]\n"
     ]
    }
   ],
   "source": [
    "years = births_df.year.unique().tolist()\n",
    "print(years)"
   ]
  },
  {
   "cell_type": "code",
   "execution_count": 520,
   "metadata": {},
   "outputs": [
    {
     "name": "stdout",
     "output_type": "stream",
     "text": [
      "[6 7 1 2 3 4 5]\n"
     ]
    }
   ],
   "source": [
    "print(births_df.day_of_week.unique())"
   ]
  },
  {
   "cell_type": "code",
   "execution_count": 521,
   "metadata": {},
   "outputs": [
    {
     "name": "stdout",
     "output_type": "stream",
     "text": [
      "[1, 2, 3, 4, 5, 6, 7, 8, 9, 10, 11, 12, 13, 14, 15, 16, 17, 18, 19, 20, 21, 22, 23, 24, 25, 26, 27, 28, 29, 30, 31]\n"
     ]
    }
   ],
   "source": [
    "days = births_df.date_of_month.unique().tolist()\n",
    "print(days)"
   ]
  },
  {
   "attachments": {},
   "cell_type": "markdown",
   "metadata": {},
   "source": [
    "***"
   ]
  },
  {
   "attachments": {},
   "cell_type": "markdown",
   "metadata": {},
   "source": [
    "### 4. Sorting & Plotting Dataset"
   ]
  },
  {
   "attachments": {},
   "cell_type": "markdown",
   "metadata": {},
   "source": [
    "For the purpose of this dataset, there are few interesting things I think would be useful to be seen visualised. \n",
    "</br> \n",
    "in the following format of {y} against {x}:"
   ]
  },
  {
   "attachments": {},
   "cell_type": "markdown",
   "metadata": {},
   "source": [
    "1. Total number of births against year\n",
    "2. Average number of births against year\n",
    "3. Average number of births against day of the week\n",
    "4. Average number of births against month of the year"
   ]
  },
  {
   "attachments": {},
   "cell_type": "markdown",
   "metadata": {},
   "source": [
    "Therefore, we need to split the original dataset into seperate datasets. For a majority of these graphs, a Bar Graph would be the most useful."
   ]
  },
  {
   "cell_type": "code",
   "execution_count": 522,
   "metadata": {},
   "outputs": [],
   "source": [
    "def plot_bargraph(dataset: pd.DataFrame, x_axis: str, y_axis: str, y_lim: list[int], labels: list[str], width: float=0.5) -> None:\n",
    "    plt.bar(dataset[x_axis], dataset[y_axis], width, color='salmon')\n",
    "    plt.ylim(y_lim)\n",
    "    plt.xlabel(labels[0])\n",
    "    plt.ylabel(labels[1])\n",
    "    plt.title(labels[2])\n",
    "    plt.show()"
   ]
  },
  {
   "attachments": {},
   "cell_type": "markdown",
   "metadata": {},
   "source": [
    "#### 4.1. Graph of Total Number of Births against Year"
   ]
  },
  {
   "cell_type": "code",
   "execution_count": 523,
   "metadata": {},
   "outputs": [
    {
     "name": "stdout",
     "output_type": "stream",
     "text": [
      "    year   births\n",
      "0   1994  3952767\n",
      "1   1995  3899589\n",
      "2   1996  3891494\n",
      "3   1997  3880894\n",
      "4   1998  3941553\n",
      "5   1999  3959417\n",
      "6   2000  4149598\n",
      "7   2001  4110963\n",
      "8   2002  4099313\n",
      "9   2003  4163060\n",
      "10  2004  4186863\n",
      "11  2005  4211941\n",
      "12  2006  4335154\n",
      "13  2007  4380784\n",
      "14  2008  4310737\n",
      "15  2009  4190991\n",
      "16  2010  4055975\n",
      "17  2011  4006908\n",
      "18  2012  4000868\n",
      "19  2013  3973337\n",
      "20  2014  4010532\n"
     ]
    }
   ],
   "source": [
    "# First, we create a new dataframe that contains the total number of births for the corresponding years \n",
    "births_against_year_df = births_df.groupby(['year'])['births'].sum().reset_index()\n",
    "\n",
    "print(births_against_year_df)"
   ]
  },
  {
   "cell_type": "code",
   "execution_count": 524,
   "metadata": {},
   "outputs": [
    {
     "data": {
      "image/png": "[encoded data removed]",
      "text/plain": [
       "<Figure size 1440x360 with 1 Axes>"
      ]
     },
     "metadata": {
      "needs_background": "light"
     },
     "output_type": "display_data"
    }
   ],
   "source": [
    "fig = plt.figure(figsize = (20, 5))\n",
    "plot_bargraph(births_against_year_df, \n",
    "        'year', \n",
    "        'births', \n",
    "        [3850000, 4400000], \n",
    "        ['Year','Total number of Births (millions)', 'Total number of Births every Year between 1994 to 2014 (inclusive)']\n",
    "        )"
   ]
  },
  {
   "attachments": {},
   "cell_type": "markdown",
   "metadata": {},
   "source": [
    "Visually, we are able to see that 2007 is the year with the highest amount of Births and 1997 is the year with the least."
   ]
  },
  {
   "attachments": {},
   "cell_type": "markdown",
   "metadata": {},
   "source": [
    "#### 4.2 Graph of Average number of Births against Year"
   ]
  },
  {
   "cell_type": "code",
   "execution_count": 525,
   "metadata": {},
   "outputs": [
    {
     "name": "stdout",
     "output_type": "stream",
     "text": [
      "    year        births\n",
      "2   1996  10632.497268\n",
      "3   1997  10632.586301\n",
      "1   1995  10683.805479\n",
      "4   1998  10798.775342\n",
      "0   1994  10829.498630\n",
      "5   1999  10847.717808\n",
      "19  2013  10885.854795\n",
      "18  2012  10931.333333\n",
      "17  2011  10977.830137\n",
      "20  2014  10987.758904\n",
      "16  2010  11112.260274\n",
      "8   2002  11230.994521\n",
      "7   2001  11262.912329\n",
      "6   2000  11337.699454\n",
      "9   2003  11405.643836\n",
      "10  2004  11439.516393\n",
      "15  2009  11482.167123\n",
      "11  2005  11539.564384\n",
      "14  2008  11777.969945\n",
      "12  2006  11877.134247\n",
      "13  2007  12002.147945\n"
     ]
    }
   ],
   "source": [
    "# We create a new dataframe that contains the average number of births for the corresponding years \n",
    "avg_births_against_year_df = births_df.groupby(['year'])['births'].mean().reset_index().sort_values('births')\n",
    "\n",
    "print(avg_births_against_year_df)"
   ]
  },
  {
   "cell_type": "code",
   "execution_count": 526,
   "metadata": {},
   "outputs": [
    {
     "data": {
      "image/png": "[encoded data removed]",
      "text/plain": [
       "<Figure size 1440x360 with 1 Axes>"
      ]
     },
     "metadata": {
      "needs_background": "light"
     },
     "output_type": "display_data"
    }
   ],
   "source": [
    "graph2 = births_df.groupby(['year'])['births'].mean().reset_index()\n",
    "fig = plt.figure(figsize = (20, 5))\n",
    "plot_bargraph(avg_births_against_year_df, \n",
    "        'year', \n",
    "        'births', \n",
    "        [10100, 12100], \n",
    "        ['Year','Average number of Births (per day)', 'Average number of Births (per day) for every Year between 1994 to 2014 (inclusive)']\n",
    "        )"
   ]
  },
  {
   "attachments": {},
   "cell_type": "markdown",
   "metadata": {},
   "source": [
    "This time around, it is harder to see via just observation whether 1996/1997 is the year with the least. However, we know that 2007 is still the year with the most.\n",
    "</br> In this case, thankfully, we are able to see the exact numbers so we know that 1996 is the year with the least average number of Births."
   ]
  },
  {
   "attachments": {},
   "cell_type": "markdown",
   "metadata": {},
   "source": [
    "This fact is interesting because 1997 was the year with the least **Total Number** of Births but 1996 was the year with the least **Average Number** of Births."
   ]
  },
  {
   "attachments": {},
   "cell_type": "markdown",
   "metadata": {},
   "source": [
    "#### 4.3 Graph of Average Number of Births against the Day of the Week"
   ]
  },
  {
   "cell_type": "code",
   "execution_count": 527,
   "metadata": {},
   "outputs": [
    {
     "name": "stdout",
     "output_type": "stream",
     "text": [
      "   day_of_week        births        day\n",
      "0            1  11606.728102     Monday\n",
      "1            2  12841.802920    Tuesday\n",
      "2            3  12620.875000  Wednesday\n",
      "3            4  12551.800913   Thursday\n",
      "4            5  12349.235616     Friday\n",
      "5            6   8621.960766   Saturday\n",
      "6            7   7635.369526     Sunday\n"
     ]
    }
   ],
   "source": [
    "# We create a new dataframe that contains the average number of births for the corresponding day of the week\n",
    "avg_births_against_dotw_df = births_df.groupby(['day_of_week'])['births'].mean().reset_index()\n",
    "\n",
    "# We add a new column denoting the actual Names for the day of the week as opposed to integer values so that it is clearer when visualised.\n",
    "avg_births_against_dotw_df['day'] = ['Monday', 'Tuesday', 'Wednesday', 'Thursday', 'Friday', 'Saturday', 'Sunday']\n",
    "\n",
    "print(avg_births_against_dotw_df)"
   ]
  },
  {
   "cell_type": "code",
   "execution_count": 528,
   "metadata": {},
   "outputs": [
    {
     "data": {
      "image/png": "[encoded data removed]",
      "text/plain": [
       "<Figure size 1440x360 with 1 Axes>"
      ]
     },
     "metadata": {
      "needs_background": "light"
     },
     "output_type": "display_data"
    }
   ],
   "source": [
    "fig = plt.figure(figsize = (20, 5))\n",
    "plot_bargraph(avg_births_against_dotw_df, \n",
    "        'day', \n",
    "        'births', \n",
    "        [7000,13000], \n",
    "        ['Day of the Week','Average Number of Births', 'Average Number of Births on a particular Day (Betw 1994-2014)'],\n",
    "        )"
   ]
  },
  {
   "attachments": {},
   "cell_type": "markdown",
   "metadata": {},
   "source": [
    "Now this is a cool observation! The weekends has the least average Number of Births by a long shot. What could the reason for this? "
   ]
  },
  {
   "attachments": {},
   "cell_type": "markdown",
   "metadata": {},
   "source": [
    "#### 4.4 Graph of Average Number of Births against the Day of the Month"
   ]
  },
  {
   "cell_type": "code",
   "execution_count": 529,
   "metadata": {},
   "outputs": [
    {
     "name": "stdout",
     "output_type": "stream",
     "text": [
      "    date_of_month        births\n",
      "24             25  10795.011905\n",
      "30             31  10872.986395\n",
      "23             24  10938.761905\n",
      "12             13  10942.285714\n",
      "25             26  10944.182540\n",
      "0               1  10974.361111\n",
      "3               4  10978.670635\n",
      "22             23  11104.845238\n",
      "4               5  11109.083333\n",
      "1               2  11111.186508\n",
      "26             27  11119.888889\n",
      "5               6  11141.460317\n",
      "2               3  11167.706349\n",
      "8               9  11202.857143\n",
      "10             11  11217.591270\n",
      "28             29  11219.317797\n",
      "27             28  11221.523810\n",
      "29             30  11232.142857\n",
      "6               7  11257.567460\n",
      "21             22  11265.107143\n",
      "7               8  11274.071429\n",
      "18             19  11276.654762\n",
      "15             16  11284.186508\n",
      "9              10  11294.317460\n",
      "11             12  11301.134921\n",
      "14             15  11318.019841\n",
      "13             14  11333.301587\n",
      "16             17  11336.432540\n",
      "17             18  11336.952381\n",
      "20             21  11361.488095\n",
      "19             20  11375.575397\n"
     ]
    }
   ],
   "source": [
    "# We create a new dataframe that contains the average number of births for the corresponding day of the week\n",
    "avg_births_against_dotm_df = births_df.groupby(['date_of_month'])['births'].mean().reset_index().sort_values('births')\n",
    "\n",
    "print(avg_births_against_dotm_df)"
   ]
  },
  {
   "cell_type": "code",
   "execution_count": 530,
   "metadata": {},
   "outputs": [
    {
     "data": {
      "image/png": "[encoded data removed]",
      "text/plain": [
       "<Figure size 1440x360 with 1 Axes>"
      ]
     },
     "metadata": {
      "needs_background": "light"
     },
     "output_type": "display_data"
    }
   ],
   "source": [
    "fig = plt.figure(figsize = (20, 5))\n",
    "plot_bargraph(avg_births_against_dotm_df, \n",
    "        'date_of_month', \n",
    "        'births', \n",
    "        [10500,11400], \n",
    "        ['Day of the Month','Average Number of Births', 'Average Number of Births on a particular Day (Betw 1994-2003)'],\n",
    "        )"
   ]
  },
  {
   "attachments": {},
   "cell_type": "markdown",
   "metadata": {},
   "source": [
    "From obversation, we know that 25th has the least and 20th has the most. An interesting trend thing to note is that it is mostly increasing from the 1st to 23rd of a month (if we ignore 1st, 4th and 13th of the month). Both the ends of the months have a low number of Births as well."
   ]
  },
  {
   "attachments": {},
   "cell_type": "markdown",
   "metadata": {},
   "source": [
    "***"
   ]
  },
  {
   "attachments": {},
   "cell_type": "markdown",
   "metadata": {},
   "source": [
    "### 5. More Vigorous Sorting(Filtering) & Plotting of Dataset"
   ]
  },
  {
   "attachments": {},
   "cell_type": "markdown",
   "metadata": {},
   "source": [
    "Now that we've looked through the normal Datasets and answered some basic questions, let's do something more interesting. Let us filter through the data for specific scenarios."
   ]
  },
  {
   "attachments": {},
   "cell_type": "markdown",
   "metadata": {},
   "source": [
    "1. Number of occurences of >= Average Number of Births on a Monday\n",
    "2. Number of occurences of < Average Number of Births on a Monday\n",
    "3. Number of occurences of >= Average Number of Birthss for the First Day of a Month\n",
    "4. Number of occurences of < Average Number of Births for the First Day of a Month"
   ]
  },
  {
   "cell_type": "code",
   "execution_count": 531,
   "metadata": {},
   "outputs": [],
   "source": [
    "def plot_stemgraphs_noniterative(x_axis: list[str], y_axis: list[int], labels: list[str], plot_num: int) -> None:\n",
    "    plt.bar(x_axis, y_axis, width = 1.0, color = 'salmon')\n",
    "    plt.subplot(1, 2, plot_num+1)\n",
    "    plt.xlabel(labels[0])\n",
    "    plt.ylabel(labels[1])\n",
    "    plt.title(labels[2])"
   ]
  },
  {
   "attachments": {},
   "cell_type": "markdown",
   "metadata": {},
   "source": [
    "As obtained earlier using `pd.describe()`, the Average Number of Births is 11175.063625 ~ 11200. "
   ]
  },
  {
   "cell_type": "code",
   "execution_count": 532,
   "metadata": {},
   "outputs": [
    {
     "data": {
      "image/png": "[encoded data removed]",
      "text/plain": [
       "<Figure size 1440x576 with 2 Axes>"
      ]
     },
     "metadata": {
      "needs_background": "light"
     },
     "output_type": "display_data"
    }
   ],
   "source": [
    "# Counting value for 1. and 2.\n",
    "num_births_mt11200_dotw = len(births_df[(births_df.births >= 11200) & (births_df.day_of_week == 1)].index)\n",
    "num_births_lt11200_dotw = len(births_df[(births_df.births < 11200) & (births_df.day_of_week == 1)].index)\n",
    "\n",
    "# Counting value for 3. and 4.\n",
    "num_births_mt11200_day1 = len(births_df[(births_df.births >= 11200) & (births_df.date_of_month == 1)].index)\n",
    "num_births_lt11200_day1 = len(births_df[(births_df.births < 11200) & (births_df.date_of_month == 1)].index)\n",
    "\n",
    "# Creating params for Graph\n",
    "x_axis = [['< 11200', '>= 11200'], ['< 11200', '>= 11200']]\n",
    "y_axis = [[num_births_mt11200_dotw, num_births_lt11200_dotw], [num_births_mt11200_day1, num_births_lt11200_day1]]\n",
    "labels = [\n",
    "        ['Number of Births', 'Occurences for Births of a given amount','Graph of Number of Occurences of Days with Births >= or < Average (11200) on a Monday'],\n",
    "        ['Number of Births', 'Occurences for Births of a given amount', 'Graph of Number of Occurences of Days with Births >= or < Average (11200) for the First Day of a Month']\n",
    "        ]\n",
    "\n",
    "# Creation of the Dataset for a clearer understanding of the numbers if need be\n",
    "final_df = pd.DataFrame()\n",
    "final_df['labels'] = ['dotw', 'dotw', 'dotm', 'dotm']\n",
    "final_df['>= 11200'] = [num_births_mt11200_dotw, pd.NA, num_births_lt11200_dotw, pd.NA]\n",
    "final_df['< 11200'] = [pd.NA, num_births_mt11200_day1, pd.NA, num_births_lt11200_day1]\n",
    "final_df = final_df.set_index('labels')\n",
    "\n",
    "# Setting number of rows and cols for subplot\n",
    "plt.subplots(1, 2, figsize = (20,8))\n",
    "\n",
    "# Ploting iteratively\n",
    "for plot_num in range(0, 2):\n",
    "    plot_stemgraphs_noniterative(x_axis[plot_num], y_axis[plot_num], labels[plot_num], plot_num)\n",
    "\n",
    "plt.tight_layout()\n",
    "plt.show()"
   ]
  },
  {
   "attachments": {},
   "cell_type": "markdown",
   "metadata": {},
   "source": [
    "From this, we observe something very significant. On the first day of every Month, there is a high chance that there will be less than the average number of births of 11175.063625 ~ 11200. However, it is not significant for Monday of every Month."
   ]
  },
  {
   "attachments": {},
   "cell_type": "markdown",
   "metadata": {},
   "source": [
    "***"
   ]
  },
  {
   "attachments": {},
   "cell_type": "markdown",
   "metadata": {},
   "source": [
    "### 6. Spotting Trends"
   ]
  },
  {
   "attachments": {},
   "cell_type": "markdown",
   "metadata": {},
   "source": [
    "In this section, we will replot the past few graphs, but of a different type to better observe trends."
   ]
  },
  {
   "attachments": {},
   "cell_type": "markdown",
   "metadata": {},
   "source": [
    "#### 6.1 Does the Year affect the Total Number of Births?"
   ]
  },
  {
   "cell_type": "code",
   "execution_count": 533,
   "metadata": {},
   "outputs": [
    {
     "data": {
      "image/png": "[encoded data removed]",
      "text/plain": [
       "<Figure size 1440x360 with 1 Axes>"
      ]
     },
     "metadata": {
      "needs_background": "light"
     },
     "output_type": "display_data"
    }
   ],
   "source": [
    "fig = plt.figure(figsize = (20, 5))\n",
    "x = births_against_year_df['year'] \n",
    "y = births_against_year_df['births']\n",
    "\n",
    "# Formulating the bestfit line\n",
    "a, b = np.polyfit(x, y, 1)\n",
    "\n",
    "# Plot scatterplot of the dataset\n",
    "plt.scatter(x, y, color='black')\n",
    "\n",
    "# Drawing bestfit line onto graph\n",
    "plt.plot(x, a*x+b, linestyle='--', linewidth=2, color='salmon')\n",
    "plt.show()"
   ]
  },
  {
   "attachments": {},
   "cell_type": "markdown",
   "metadata": {},
   "source": [
    "This linear best fit line doesn't really work. This means that the relationship between the Year and the Total number of Births isn't Linear. Therefore, it makes sense to perform Polynomial Regression Instead."
   ]
  },
  {
   "cell_type": "code",
   "execution_count": 534,
   "metadata": {},
   "outputs": [
    {
     "data": {
      "image/png": "[encoded data removed]",
      "text/plain": [
       "<Figure size 1440x360 with 1 Axes>"
      ]
     },
     "metadata": {
      "needs_background": "light"
     },
     "output_type": "display_data"
    }
   ],
   "source": [
    "fig = plt.figure(figsize = (20, 5))\n",
    "\n",
    "# Formulating the polynomial fit line of degree {3}\n",
    "model = np.poly1d(np.polyfit(x, y, 3))\n",
    "polyline = np.linspace(1994, 2014)\n",
    "\n",
    "# Plot scatterplot of the dataset\n",
    "plt.scatter(x, y, color='black')\n",
    "\n",
    "# Drawing polynomial fit onto graph\n",
    "plt.plot(polyline, model(polyline), linestyle='--', linewidth=2, color='salmon')\n",
    "plt.show()"
   ]
  },
  {
   "attachments": {},
   "cell_type": "markdown",
   "metadata": {},
   "source": [
    "#### 6.2 Does the Day of the Month determine the Number of Births for that particular day?"
   ]
  },
  {
   "cell_type": "code",
   "execution_count": 535,
   "metadata": {},
   "outputs": [
    {
     "data": {
      "image/png": "[encoded data removed]",
      "text/plain": [
       "<Figure size 1440x360 with 1 Axes>"
      ]
     },
     "metadata": {
      "needs_background": "light"
     },
     "output_type": "display_data"
    }
   ],
   "source": [
    "fig = plt.figure(figsize = (20, 5))\n",
    "x = avg_births_against_dotm_df['date_of_month'] \n",
    "y = avg_births_against_dotm_df['births']\n",
    "\n",
    "# Formulating the polynomial fit line of degree {7} \n",
    "model = np.poly1d(np.polyfit(x, y, 7))\n",
    "polyline = np.linspace(1, 31)\n",
    "\n",
    "# Plot scatterplot of the dataset\n",
    "plt.scatter(x, y, color='black')\n",
    "\n",
    "# Drawing polynomial fit onto graph\n",
    "plt.plot(polyline, model(polyline), linestyle='--', linewidth=2, color='salmon')\n",
    "plt.show()"
   ]
  },
  {
   "attachments": {},
   "cell_type": "markdown",
   "metadata": {},
   "source": [
    "Remember that the Number that you set for the degree of the polynomial fit is important. If you set a number that is too high, it can result in overfitting."
   ]
  },
  {
   "attachments": {},
   "cell_type": "markdown",
   "metadata": {},
   "source": [
    "It is interesting to see here that when a scattergraph is used, certain things stand out more and are more visually obvious. For example, in this scattergraph, we can now see that on the 25th of every Month, the Number of Births is drastically lower than the rest. This is also the case for the 31st of every month."
   ]
  },
  {
   "attachments": {},
   "cell_type": "markdown",
   "metadata": {},
   "source": [
    "***"
   ]
  }
 ],
 "metadata": {
  "kernelspec": {
   "display_name": "base",
   "language": "python",
   "name": "python3"
  },
  "language_info": {
   "codemirror_mode": {
    "name": "ipython",
    "version": 3
   },
   "file_extension": ".py",
   "mimetype": "text/x-python",
   "name": "python",
   "nbconvert_exporter": "python",
   "pygments_lexer": "ipython3",
   "version": "3.9.7"
  },
  "orig_nbformat": 4,
  "vscode": {
   "interpreter": {
    "hash": "40d3a090f54c6569ab1632332b64b2c03c39dcf918b08424e98f38b5ae0af88f"
   }
  }
 },
 "nbformat": 4,
 "nbformat_minor": 2
}

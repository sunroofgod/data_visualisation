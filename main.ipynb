{
 "cells": [
  {
   "attachments": {},
   "cell_type": "markdown",
   "metadata": {},
   "source": [
    "The aim of this project is for familiarisation of Pandas as well as to try out various Data Visualisation Techniques."
   ]
  },
  {
   "attachments": {},
   "cell_type": "markdown",
   "metadata": {},
   "source": [
    "### 1. Importing"
   ]
  },
  {
   "cell_type": "code",
   "execution_count": 252,
   "metadata": {},
   "outputs": [],
   "source": [
    "import numpy as np\n",
    "import pandas as pd\n",
    "import matplotlib.pyplot as plt\n",
    "\n",
    "births_df = pd.read_csv('US_births_1994-2003_CDC_NCHS.csv')"
   ]
  },
  {
   "attachments": {},
   "cell_type": "markdown",
   "metadata": {},
   "source": [
    "### 2. Exploring Dataset"
   ]
  },
  {
   "cell_type": "code",
   "execution_count": 253,
   "metadata": {},
   "outputs": [
    {
     "name": "stdout",
     "output_type": "stream",
     "text": [
      "Index(['year', 'month', 'date_of_month', 'day_of_week', 'births'], dtype='object')\n"
     ]
    }
   ],
   "source": [
    "# Finding Header\n",
    "print(births_df.columns)"
   ]
  },
  {
   "cell_type": "code",
   "execution_count": 254,
   "metadata": {},
   "outputs": [
    {
     "name": "stdout",
     "output_type": "stream",
     "text": [
      "There are 3652 rows and 5 columns\n"
     ]
    }
   ],
   "source": [
    "# Finding out the dimensions of the Dataset\n",
    "print(f\"There are {births_df.shape[0]} rows and {births_df.shape[1]} columns\")"
   ]
  },
  {
   "cell_type": "code",
   "execution_count": 255,
   "metadata": {},
   "outputs": [
    {
     "name": "stdout",
     "output_type": "stream",
     "text": [
      "   year  month  date_of_month  day_of_week  births\n",
      "0  1994      1              1            6    8096\n",
      "1  1994      1              2            7    7772\n",
      "2  1994      1              3            1   10142\n",
      "3  1994      1              4            2   11248\n"
     ]
    }
   ],
   "source": [
    "# Taking a look at the first 4 rows\n",
    "print(births_df.head(4))"
   ]
  },
  {
   "cell_type": "code",
   "execution_count": 256,
   "metadata": {},
   "outputs": [
    {
     "name": "stdout",
     "output_type": "stream",
     "text": [
      "              year        month  date_of_month  day_of_week        births\n",
      "count  3652.000000  3652.000000    3652.000000  3652.000000   3652.000000\n",
      "mean   1998.499726     6.523549      15.727820     3.999726  10876.817360\n",
      "std       2.872293     3.449005       8.800529     2.000753   1858.566631\n",
      "min    1994.000000     1.000000       1.000000     1.000000   6443.000000\n",
      "25%    1996.000000     4.000000       8.000000     2.000000   8844.500000\n",
      "50%    1998.500000     7.000000      16.000000     4.000000  11615.000000\n",
      "75%    2001.000000    10.000000      23.000000     6.000000  12274.250000\n",
      "max    2003.000000    12.000000      31.000000     7.000000  14540.000000\n"
     ]
    }
   ],
   "source": [
    "# Finding out the overall stats\n",
    "print(births_df.describe())"
   ]
  },
  {
   "cell_type": "code",
   "execution_count": 257,
   "metadata": {},
   "outputs": [
    {
     "name": "stdout",
     "output_type": "stream",
     "text": [
      "      year  month  date_of_month  day_of_week  births\n",
      "2915  2001     12             25            2    6443\n",
      "2550  2000     12             25            1    6566\n",
      "3645  2003     12             25            4    6628\n",
      "3280  2002     12             25            3    6629\n",
      "2184  1999     12             25            6    6674\n",
      "...    ...    ...            ...          ...     ...\n",
      "3552  2003      9             23            2   14036\n",
      "3532  2003      9              3            3   14119\n",
      "3545  2003      9             16            2   14145\n",
      "3650  2003     12             30            2   14438\n",
      "2077  1999      9              9            4   14540\n",
      "\n",
      "[3652 rows x 5 columns]\n",
      "\n",
      "from this, we know that: \n",
      "25 Dec 2001, Tuesday == lowest number of births \n",
      "9 Sept 1999, Thursday == highest number of births\n"
     ]
    }
   ],
   "source": [
    "# Finding year & day with highest & lowest number of births\n",
    "print(births_df.sort_values('births'))\n",
    "print(f\"\\nfrom this, we know that: \\n25 Dec 2001, Tuesday == lowest number of births \\n9 Sept 1999, Thursday == highest number of births\")"
   ]
  },
  {
   "attachments": {},
   "cell_type": "markdown",
   "metadata": {},
   "source": [
    "### 3. Cleaning Dataset"
   ]
  },
  {
   "attachments": {},
   "cell_type": "markdown",
   "metadata": {},
   "source": [
    "Although this Dataset was obtained from a reliable source, we still do the usual of looking through and ensuring that the Dataset is clean.\n",
    "<br/>\n",
    "<br/>\n",
    "Things that we're looking out for:"
   ]
  },
  {
   "attachments": {},
   "cell_type": "markdown",
   "metadata": {},
   "source": [
    "1. There is no row with NaN or missing data.\n",
    "2. There is indeed data from the years {1994} to {2003}.\n",
    "3. It accounts for everyday of the week, from Monday to Sunday."
   ]
  },
  {
   "cell_type": "code",
   "execution_count": 258,
   "metadata": {},
   "outputs": [
    {
     "name": "stdout",
     "output_type": "stream",
     "text": [
      "now, all the rows with any field empty will have been removed\n"
     ]
    }
   ],
   "source": [
    "births_df = births_df.dropna()\n",
    "print(f\"now, all the rows with any field empty will have been removed\")"
   ]
  },
  {
   "cell_type": "code",
   "execution_count": 259,
   "metadata": {},
   "outputs": [
    {
     "name": "stdout",
     "output_type": "stream",
     "text": [
      "[1994, 1995, 1996, 1997, 1998, 1999, 2000, 2001, 2002, 2003]\n"
     ]
    }
   ],
   "source": [
    "years = births_df.year.unique().tolist()\n",
    "print(years)"
   ]
  },
  {
   "cell_type": "code",
   "execution_count": 260,
   "metadata": {},
   "outputs": [
    {
     "name": "stdout",
     "output_type": "stream",
     "text": [
      "[6 7 1 2 3 4 5]\n"
     ]
    }
   ],
   "source": [
    "print(births_df.day_of_week.unique())"
   ]
  },
  {
   "cell_type": "code",
   "execution_count": 261,
   "metadata": {},
   "outputs": [
    {
     "name": "stdout",
     "output_type": "stream",
     "text": [
      "[1, 2, 3, 4, 5, 6, 7, 8, 9, 10, 11, 12, 13, 14, 15, 16, 17, 18, 19, 20, 21, 22, 23, 24, 25, 26, 27, 28, 29, 30, 31]\n"
     ]
    }
   ],
   "source": [
    "days = births_df.date_of_month.unique().tolist()\n",
    "print(days)"
   ]
  },
  {
   "attachments": {},
   "cell_type": "markdown",
   "metadata": {},
   "source": [
    "### 4. Sorting Dataset"
   ]
  },
  {
   "attachments": {},
   "cell_type": "markdown",
   "metadata": {},
   "source": [
    "For the purpose of this dataset, there are few interesting things I think would be useful to be seen visualised. \n",
    "</br> \n",
    "</br> \n",
    "_in the following format: {y} against {x}_"
   ]
  },
  {
   "attachments": {},
   "cell_type": "markdown",
   "metadata": {},
   "source": [
    "1. Total number of births against year\n",
    "2. Average number of births against year\n",
    "3. Average number of births against day of the week\n",
    "4. Average number of births against month of the year"
   ]
  },
  {
   "attachments": {},
   "cell_type": "markdown",
   "metadata": {},
   "source": [
    "Therefore, we need to split the original dataset into seperate datasets"
   ]
  },
  {
   "cell_type": "code",
   "execution_count": 262,
   "metadata": {},
   "outputs": [],
   "source": [
    "def plot_bargraph(dataset: pd.DataFrame, x_axis: str, y_axis: str, y_lim: list[int], labels: list[str]) -> None:\n",
    "    plt.bar(dataset[x_axis], dataset[y_axis], width = 0.5)\n",
    "    plt.ylim(y_lim)\n",
    "    plt.xlabel(labels[0])\n",
    "    plt.ylabel(labels[1])\n",
    "    plt.title(labels[2])\n",
    "    plt.show()"
   ]
  },
  {
   "cell_type": "code",
   "execution_count": 263,
   "metadata": {},
   "outputs": [
    {
     "data": {
      "image/png": "[encoded data removed]",
      "text/plain": [
       "<Figure size 720x360 with 1 Axes>"
      ]
     },
     "metadata": {
      "needs_background": "light"
     },
     "output_type": "display_data"
    }
   ],
   "source": [
    "graph1 = births_df.groupby(['year'])['births'].sum().reset_index()\n",
    "fig = plt.figure(figsize = (10, 5))\n",
    "plot_bargraph(graph1, \n",
    "        'year', \n",
    "        'births', \n",
    "        [3850000, 4100000], \n",
    "        ['Year','Total number of Births (millions)', 'Total number of Births every Year between 1994 to 2003 (inclusive)']\n",
    "        )"
   ]
  },
  {
   "cell_type": "code",
   "execution_count": 264,
   "metadata": {},
   "outputs": [
    {
     "data": {
      "image/png": "[encoded data removed]",
      "text/plain": [
       "<Figure size 720x360 with 1 Axes>"
      ]
     },
     "metadata": {
      "needs_background": "light"
     },
     "output_type": "display_data"
    }
   ],
   "source": [
    "graph2 = births_df.groupby(['year'])['births'].mean().reset_index()\n",
    "fig = plt.figure(figsize = (10, 5))\n",
    "plot_bargraph(graph2, \n",
    "        'year', \n",
    "        'births', \n",
    "        [10600, 11240], \n",
    "        ['Year','Average number of Births Daily', 'Average number of Births per day for every Year between 1994 to 2003 (inclusive)']\n",
    "        )"
   ]
  },
  {
   "cell_type": "code",
   "execution_count": 266,
   "metadata": {},
   "outputs": [
    {
     "data": {
      "image/png": "[encoded data removed]",
      "text/plain": [
       "<Figure size 720x360 with 1 Axes>"
      ]
     },
     "metadata": {
      "needs_background": "light"
     },
     "output_type": "display_data"
    }
   ],
   "source": [
    "graph2 = births_df.groupby(['day_of_week'])['births'].mean().reset_index()\n",
    "fig = plt.figure(figsize = (10, 5))\n",
    "plot_bargraph(graph2, \n",
    "        'day_of_week', \n",
    "        'births', \n",
    "        [7000,12500], \n",
    "        ['Year','Average number of Births Daily', 'Average number of Births per day for every Year between 1994 to 2003 (inclusive)'],\n",
    "        )"
   ]
  }
 ],
 "metadata": {
  "kernelspec": {
   "display_name": "base",
   "language": "python",
   "name": "python3"
  },
  "language_info": {
   "codemirror_mode": {
    "name": "ipython",
    "version": 3
   },
   "file_extension": ".py",
   "mimetype": "text/x-python",
   "name": "python",
   "nbconvert_exporter": "python",
   "pygments_lexer": "ipython3",
   "version": "3.9.7"
  },
  "orig_nbformat": 4,
  "vscode": {
   "interpreter": {
    "hash": "40d3a090f54c6569ab1632332b64b2c03c39dcf918b08424e98f38b5ae0af88f"
   }
  }
 },
 "nbformat": 4,
 "nbformat_minor": 2
}
